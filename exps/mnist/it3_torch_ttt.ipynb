{
  "nbformat": 4,
  "nbformat_minor": 0,
  "metadata": {
    "colab": {
      "provenance": [],
      "toc_visible": true,
      "gpuType": "T4"
    },
    "kernelspec": {
      "name": "python3",
      "display_name": "Python 3"
    },
    "language_info": {
      "name": "python"
    },
    "accelerator": "GPU"
  },
  "cells": [
    {
      "cell_type": "markdown",
      "source": [
        "# Introduction\n",
        "\n",
        "In this tutorial, we explore how the idempotence-based [Idempotent Test-Time Training (IT3)](https://www.norange.io/projects/ittt/) approach can improve model performance during inference when data is corrupted by Gaussian noise, using the [torch-ttt](https://github.com/nikitadurasov/torch-ttt) *Engine* functionality — specifically the [`IT3Engine`](https://github.com/nikitadurasov/torch-ttt) class."
      ],
      "metadata": {
        "id": "5NhkONzrmfBX"
      }
    },
    {
      "cell_type": "code",
      "execution_count": 1,
      "metadata": {
        "colab": {
          "base_uri": "https://localhost:8080/"
        },
        "id": "a_M5xzAIkhiN",
        "outputId": "748fef8d-8ab0-4073-bcbc-52f654e45984"
      },
      "outputs": [
        {
          "output_type": "stream",
          "name": "stdout",
          "text": [
            "Collecting git+https://github.com/nikitadurasov/torch-ttt.git\n",
            "  Cloning https://github.com/nikitadurasov/torch-ttt.git to /tmp/pip-req-build-539tg1nd\n",
            "  Running command git clone --filter=blob:none --quiet https://github.com/nikitadurasov/torch-ttt.git /tmp/pip-req-build-539tg1nd\n",
            "  Resolved https://github.com/nikitadurasov/torch-ttt.git to commit 5bd83d5138467c7368b136fcd34e895cfb5ae8f2\n",
            "  Installing build dependencies ... \u001b[?25l\u001b[?25hdone\n",
            "  Getting requirements to build wheel ... \u001b[?25l\u001b[?25hdone\n",
            "  Preparing metadata (pyproject.toml) ... \u001b[?25l\u001b[?25hdone\n"
          ]
        }
      ],
      "source": [
        "!pip install git+https://github.com/nikitadurasov/torch-ttt.git"
      ]
    },
    {
      "cell_type": "markdown",
      "source": [
        "Below, we will start by training a networks on MNIST data and demonstrate how susceptible it is to noise introduced during testing, resulting in significantly lower accuracy when the noise is present.\n",
        "\n",
        "Let’s start with some global parameters that we will use later."
      ],
      "metadata": {
        "id": "f_MQ10UinuL8"
      }
    },
    {
      "cell_type": "code",
      "source": [
        "import torch\n",
        "import torchvision\n",
        "import numpy as np\n",
        "import random\n",
        "import tqdm\n",
        "import matplotlib.pyplot as plt\n",
        "\n",
        "import torch.nn as nn\n",
        "import torch.nn.functional as F\n",
        "import torch.optim as optim\n",
        "\n",
        "n_epochs = 1  # number of training epochs\n",
        "batch_size_train = 256  # batch size during training\n",
        "batch_size_test = 256  # batch size during training\n",
        "learning_rate = 0.01  # training learning rate\n",
        "\n",
        "random_seed = 7\n",
        "torch.backends.cudnn.enabled = False\n",
        "torch.manual_seed(random_seed)\n",
        "random.seed(random_seed)\n",
        "np.random.seed(random_seed)"
      ],
      "metadata": {
        "id": "58SgybSak2Dy"
      },
      "execution_count": 2,
      "outputs": []
    },
    {
      "cell_type": "markdown",
      "source": [
        "# Model\n",
        "\n",
        "We will employ a fairly shallow and simple model, consisting only of several\n",
        "convolutional and linear layers with LeakyReLU activations."
      ],
      "metadata": {
        "id": "sxw6coEooCV1"
      }
    },
    {
      "cell_type": "code",
      "source": [
        "class Net(nn.Module):\n",
        "    def __init__(self):\n",
        "        super(Net, self).__init__()\n",
        "        self.conv1 = nn.Conv2d(1, 10, kernel_size=5)\n",
        "        self.conv2 = nn.Conv2d(10, 20, kernel_size=5)\n",
        "        self.fc1 = nn.Linear(320, 50)\n",
        "        self.fc2 = nn.Linear(50, 50)\n",
        "        self.fc3 = nn.Linear(50, 50)\n",
        "        self.fc4 = nn.Linear(50, 10)\n",
        "        self.activation = nn.LeakyReLU()\n",
        "\n",
        "    def forward(self, x):\n",
        "        x = self.activation(F.max_pool2d(self.conv1(x), 2))\n",
        "        x = self.activation(F.max_pool2d(self.conv2(x), 2))\n",
        "        x = x.view(-1, 320)\n",
        "        x = self.activation(self.fc1(x))\n",
        "        x = self.activation(self.fc2(x)) + x\n",
        "        x = self.activation(self.fc3(x)) + x\n",
        "        x = self.fc4(x)\n",
        "        return F.softmax(x, dim=-1)"
      ],
      "metadata": {
        "id": "ozKdcP_3k9Ly"
      },
      "execution_count": 3,
      "outputs": []
    },
    {
      "cell_type": "markdown",
      "source": [
        "# Data\n",
        "\n",
        "For training and testing data, we will use the standard train/test MNIST split, which consists of roughly 60,000 samples for training and 10,000 for testing, and we will normalize the data."
      ],
      "metadata": {
        "id": "RAKuRqIUoOGt"
      }
    },
    {
      "cell_type": "code",
      "source": [
        "train_loader = torch.utils.data.DataLoader(\n",
        "    torchvision.datasets.MNIST(\n",
        "        \"./MNIST/\",\n",
        "        train=True,\n",
        "        download=True,\n",
        "        transform=torchvision.transforms.Compose(\n",
        "            [\n",
        "                torchvision.transforms.ToTensor(),\n",
        "                torchvision.transforms.Normalize((0.1307,), (0.3081,)),\n",
        "            ]\n",
        "        ),\n",
        "    ),\n",
        "    batch_size=batch_size_train,\n",
        "    shuffle=False,\n",
        ")\n",
        "\n",
        "test_loader = torch.utils.data.DataLoader(\n",
        "    torchvision.datasets.MNIST(\n",
        "        \"./MNIST/\",\n",
        "        train=False,\n",
        "        download=True,\n",
        "        transform=torchvision.transforms.Compose(\n",
        "            [\n",
        "                torchvision.transforms.ToTensor(),\n",
        "                torchvision.transforms.Normalize((0.1307,), (0.3081,)),\n",
        "            ]\n",
        "        ),\n",
        "    ),\n",
        "    batch_size=batch_size_test,\n",
        "    shuffle=False,\n",
        ")"
      ],
      "metadata": {
        "id": "zqcAd5Vsk_Ky"
      },
      "execution_count": 4,
      "outputs": []
    },
    {
      "cell_type": "markdown",
      "source": [
        "First, let’s visualize 10 random images from the clean MNIST test set. As we can see, the digits are clearly visible and distinctive."
      ],
      "metadata": {
        "id": "hBxqz1RTob1_"
      }
    },
    {
      "cell_type": "code",
      "source": [
        "images, _ = next(iter(test_loader))\n",
        "fig, axes = plt.subplots(1, 10, figsize=(15, 2))\n",
        "for ax, img in zip(axes, images[:10, 0]):\n",
        "    ax.imshow(img, cmap=\"viridis\")\n",
        "    ax.axis(\"off\")\n",
        "plt.tight_layout()\n",
        "plt.show()\n"
      ],
      "metadata": {
        "colab": {
          "base_uri": "https://localhost:8080/",
          "height": 170
        },
        "id": "QTcjOabYoer6",
        "outputId": "bf265a82-eb2e-43fc-d18f-71c1980066f4"
      },
      "execution_count": 5,
      "outputs": [
        {
          "output_type": "display_data",
          "data": {
            "text/plain": [
              "<Figure size 1500x200 with 10 Axes>"
            ],
            "image/png": "[encoded data removed]"
          },
          "metadata": {}
        }
      ]
    },
    {
      "cell_type": "markdown",
      "source": [
        "Now, let’s add a significant amount of Gaussian noise to our input images, which will make the classification task significantly more challenging. Let’s plot how they look."
      ],
      "metadata": {
        "id": "6o_ZfashokDY"
      }
    },
    {
      "cell_type": "code",
      "source": [
        "images, _ = next(iter(test_loader))\n",
        "fig, axes = plt.subplots(1, 10, figsize=(15, 2))\n",
        "for ax, img in zip(axes, images[:10, 0]):\n",
        "    noisy_img = img + 2 * torch.randn(img.shape)\n",
        "    ax.imshow(noisy_img, cmap=\"viridis\")\n",
        "    ax.axis(\"off\")\n",
        "plt.tight_layout()\n",
        "plt.show()"
      ],
      "metadata": {
        "colab": {
          "base_uri": "https://localhost:8080/",
          "height": 170
        },
        "id": "mnsUN6NXojVL",
        "outputId": "33c2032d-adfa-49fc-fb78-c37409bc5937"
      },
      "execution_count": 6,
      "outputs": [
        {
          "output_type": "display_data",
          "data": {
            "text/plain": [
              "<Figure size 1500x200 with 10 Axes>"
            ],
            "image/png": "[encoded data removed]"
          },
          "metadata": {}
        }
      ]
    },
    {
      "cell_type": "markdown",
      "source": [
        "# Idempotent Test-Time Training"
      ],
      "metadata": {
        "id": "kpEZrMqoowPL"
      }
    },
    {
      "cell_type": "markdown",
      "source": [
        "Now, let’s apply the IT3 approach to enhance performance on noisy inputs. We’ll use the [`IT3Engine`](https://github.com/nikitadurasov/torch-ttt) class, which handles idempotence loss computation and gradient-based optimization during inference."
      ],
      "metadata": {
        "id": "4qIUd-Tro45a"
      }
    },
    {
      "cell_type": "code",
      "source": [
        "from torch_ttt.engine.it3_engine import IT3Engine"
      ],
      "metadata": {
        "id": "K3NPEgfsozRZ"
      },
      "execution_count": 7,
      "outputs": []
    },
    {
      "cell_type": "markdown",
      "source": [
        "To integrate IT3 into our existing training and testing pipelines, we only need to add a few lines of code. In the cells below, the creation of the IT3 engine is marked with comments for clarity."
      ],
      "metadata": {
        "id": "a84iFhYepVfL"
      }
    },
    {
      "cell_type": "code",
      "source": [
        "# Create the original model\n",
        "network = Net()\n",
        "\n",
        "# Create the engine wrapper that encapsulates all IT3 logic\n",
        "engine = IT3Engine(\n",
        "\n",
        "    # Original model\n",
        "    model=network,\n",
        "\n",
        "    # The layer to which output features will be added\n",
        "    features_layer_name=\"conv1\",\n",
        "\n",
        "    # Distance function used to estimate idempotence between two outputs\n",
        "    distance_fn=lambda x, y: -torch.sum(y * x, dim=1).mean()\n",
        ")\n",
        "\n",
        "# Optimize the engine (which includes TTT logic), not the base model directly\n",
        "optimizer = optim.Adam(engine.parameters(), lr=1e-3)"
      ],
      "metadata": {
        "id": "r8l0UroxoTJx"
      },
      "execution_count": 8,
      "outputs": []
    },
    {
      "cell_type": "markdown",
      "source": [
        "## Training\n",
        "\n",
        "The functions below implement standard training and evaluation loops, adapted to use the IT3 engine. During training, the self-supervised idempotence loss is combined with the classification loss. During testing, the model is evaluated on noisy inputs using IT3's inference-time optimization.\n"
      ],
      "metadata": {
        "id": "wQJJJDVmum-j"
      }
    },
    {
      "cell_type": "code",
      "source": [
        "def train():\n",
        "    engine.train()  # Switch engine to training mode\n",
        "    correct = 0\n",
        "    counter = 0\n",
        "    with tqdm.tqdm(total=len(train_loader), desc=\"Train\") as pbar:\n",
        "        for batch_idx, (data, target) in enumerate(train_loader):\n",
        "\n",
        "            optimizer.zero_grad()\n",
        "\n",
        "            # Following the original IT3, pass ground truth as\n",
        "            # additional input during inference\n",
        "            one_hot = F.one_hot(target, num_classes=10).float()\n",
        "\n",
        "            # The engine returns the model output and the\n",
        "            # self-supervised loss (idempotence in the case of IT3)\n",
        "            output, loss_ttt = engine(data, target=one_hot)\n",
        "\n",
        "            loss = (\n",
        "                F.nll_loss((output + 1e-8).log(), target) + loss_ttt\n",
        "            )  # Add the self-supervised loss to the total loss\n",
        "\n",
        "            pred = output.data.max(1, keepdim=True)[1]\n",
        "            correct += pred.eq(target.data.view_as(pred)).sum().item()\n",
        "            counter += len(data)\n",
        "\n",
        "            loss.backward()\n",
        "            optimizer.step()\n",
        "\n",
        "            if (batch_idx + 1) % 10 == 0:\n",
        "                pbar.update(10)\n",
        "                pbar.set_postfix(acc=correct / counter)\n",
        "\n",
        "def ttt_test():\n",
        "    batch_accs = []\n",
        "    engine.eval()  # Switch engine to evaluation mode\n",
        "    correct = 0\n",
        "    with tqdm.tqdm(total=len(test_loader), desc=\"Test\") as pbar:\n",
        "        for batch_idx, (data, target) in enumerate(test_loader):\n",
        "            data += 2 * torch.randn(data.shape)  # Add Gaussian noise to the input\n",
        "            output, _ = engine(data)  # Run inference with the engine\n",
        "            pred = output.data.max(1, keepdim=True)[1]\n",
        "            batch_acc = pred.eq(target.data.view_as(pred)).sum().item()\n",
        "            batch_accs += [batch_acc / len(target)]\n",
        "            correct += batch_acc\n",
        "            if (batch_idx + 1) % 100 == 0:\n",
        "                pbar.update(100)\n",
        "\n",
        "        accuracy = 100.0 * correct / len(test_loader.dataset)\n",
        "        pbar.set_postfix(acc=accuracy)\n",
        "        return batch_accs\n"
      ],
      "metadata": {
        "id": "ezoS5wA_lBEH"
      },
      "execution_count": 9,
      "outputs": []
    },
    {
      "cell_type": "code",
      "source": [
        "# Run training for 2 epochs\n",
        "for _ in range(n_epochs+1):\n",
        "    train()"
      ],
      "metadata": {
        "colab": {
          "base_uri": "https://localhost:8080/"
        },
        "id": "FXLOckoJlDEv",
        "outputId": "c3e079d8-4ad9-4591-817c-49c359cfcfe9"
      },
      "execution_count": 10,
      "outputs": [
        {
          "output_type": "stream",
          "name": "stderr",
          "text": [
            "Train:  98%|█████████▊| 230/235 [00:37<00:00,  6.08it/s, acc=0.878]\n",
            "Train:  98%|█████████▊| 230/235 [00:36<00:00,  6.23it/s, acc=0.968]\n"
          ]
        }
      ]
    },
    {
      "cell_type": "markdown",
      "source": [
        "## Evaluation\n",
        "\n",
        "We first evaluate the model without any test-time optimization by setting the number of adaptation steps to zero.  \n",
        "As we can see, due to the added noise, the model’s accuracy drops significantly.\n"
      ],
      "metadata": {
        "id": "mJri2wjbu3TW"
      }
    },
    {
      "cell_type": "code",
      "source": [
        "print(\"### No optimization ###\")\n",
        "engine.optimization_parameters[\"num_steps\"] = 0\n",
        "batch_accs_no = ttt_test()"
      ],
      "metadata": {
        "colab": {
          "base_uri": "https://localhost:8080/"
        },
        "id": "S90oNTfOlG2V",
        "outputId": "e763bca0-c8a3-4c9e-98e4-3cbcfc6e3a0f"
      },
      "execution_count": 11,
      "outputs": [
        {
          "output_type": "stream",
          "name": "stdout",
          "text": [
            "### No optimization ###\n"
          ]
        },
        {
          "output_type": "stream",
          "name": "stderr",
          "text": [
            "Test:   0%|          | 0/40 [00:02<?, ?it/s, acc=76.2]\n"
          ]
        }
      ]
    },
    {
      "cell_type": "markdown",
      "source": [
        "Next, we enable IT3 by setting the number of optimization steps to 1 and specifying a learning rate.  \n",
        "This significantly improves performance compared to the non-optimized model on noisy data."
      ],
      "metadata": {
        "id": "YVpY7h4avXmj"
      }
    },
    {
      "cell_type": "code",
      "source": [
        "print(\"### Number of optimization steps: 1 ###\")\n",
        "engine.optimization_parameters[\"num_steps\"] = 1\n",
        "engine.optimization_parameters[\"lr\"] = 1e-3\n",
        "batch_accs_o = ttt_test()"
      ],
      "metadata": {
        "colab": {
          "base_uri": "https://localhost:8080/"
        },
        "id": "ZmXymOy4lJBs",
        "outputId": "19229548-7930-435a-93b9-9bd5968cd85b"
      },
      "execution_count": 12,
      "outputs": [
        {
          "output_type": "stream",
          "name": "stdout",
          "text": [
            "### Number of optimization steps: 1 ###\n"
          ]
        },
        {
          "output_type": "stream",
          "name": "stderr",
          "text": [
            "Test:   0%|          | 0/40 [00:07<?, ?it/s, acc=82.9]\n"
          ]
        }
      ]
    },
    {
      "cell_type": "markdown",
      "source": [
        "The boxplot below compares the model’s performance on noisy data with and without IT3 adaptation.  \n",
        "IT3 optimization leads to a clear improvement in accuracy, showing its effectiveness in mitigating corruption-induced degradation."
      ],
      "metadata": {
        "id": "IImGe1cQvpZV"
      }
    },
    {
      "cell_type": "code",
      "source": [
        "import matplotlib.pyplot as plt\n",
        "\n",
        "plt.figure(figsize=(6, 4))\n",
        "\n",
        "plt.boxplot(\n",
        "    [batch_accs_no, batch_accs_o],\n",
        "    widths=0.5,\n",
        "    meanline=True,\n",
        "    showmeans=True,\n",
        "    boxprops=dict(linewidth=1.5),\n",
        "    whiskerprops=dict(linewidth=1.2),\n",
        "    capprops=dict(linewidth=1.2),\n",
        "    medianprops=dict(linewidth=1.5, color='orange'),\n",
        "    meanprops=dict(linewidth=1.5, color='red')\n",
        ")\n",
        "\n",
        "plt.xticks([1, 2], ['Not Optimized', 'IT3 Optimized'])\n",
        "plt.title(\"Accuracy on Corrupted MNIST\")\n",
        "plt.ylabel(\"Accuracy\")\n",
        "plt.grid(True, linestyle='--', alpha=0.6)\n",
        "plt.tight_layout()\n",
        "plt.show()\n"
      ],
      "metadata": {
        "colab": {
          "base_uri": "https://localhost:8080/",
          "height": 407
        },
        "id": "w8Y67RAxlK7t",
        "outputId": "cf2080df-102a-4b52-b9a9-7f6f92d5330b"
      },
      "execution_count": 13,
      "outputs": [
        {
          "output_type": "display_data",
          "data": {
            "text/plain": [
              "<Figure size 600x400 with 1 Axes>"
            ],
            "image/png": "[encoded data removed]"
          },
          "metadata": {}
        }
      ]
    }
  ]
}